{
 "cells": [
  {
   "cell_type": "markdown",
   "id": "7348e4d7",
   "metadata": {},
   "source": [
    "# 30 Python tricks you should know"
   ]
  },
  {
   "cell_type": "markdown",
   "id": "54eb6890",
   "metadata": {},
   "source": [
    "1. **Ternary Operator Conditional Expression:** which squeezes if-else statement into a single line."
   ]
  },
  {
   "cell_type": "code",
   "execution_count": 1,
   "id": "fac32ed1",
   "metadata": {},
   "outputs": [
    {
     "name": "stdout",
     "output_type": "stream",
     "text": [
      "500\n"
     ]
    }
   ],
   "source": [
    "a = 1\n",
    "b = 500\n",
    "max_value = a if a > b else b \n",
    "print(max_value)"
   ]
  },
  {
   "cell_type": "markdown",
   "id": "4b99e31b",
   "metadata": {},
   "source": [
    "2. **List Comprehension:** is used to generate new list by applying an element-wise operation."
   ]
  },
  {
   "cell_type": "code",
   "execution_count": 2,
   "id": "4893ade3",
   "metadata": {},
   "outputs": [
    {
     "name": "stdout",
     "output_type": "stream",
     "text": [
      "[1, 8, 27, 64, 125]\n"
     ]
    }
   ],
   "source": [
    "numbers = [1, 2, 3, 4, 5]\n",
    "squares = [n**3 for n in numbers] \n",
    "print(squares)"
   ]
  },
  {
   "cell_type": "markdown",
   "id": "f0aea836",
   "metadata": {},
   "source": [
    "3. **Dictionary Comprehension:** is used to generate new dictionary by applying an element-wise operation."
   ]
  },
  {
   "cell_type": "code",
   "execution_count": 3,
   "id": "d87228a4",
   "metadata": {},
   "outputs": [
    {
     "name": "stdout",
     "output_type": "stream",
     "text": [
      "{1: 1, 2: 8, 3: 27, 4: 64, 5: 125}\n"
     ]
    }
   ],
   "source": [
    "numbers = [1, 2, 3, 4, 5]\n",
    "squares = {n: n**3 for n in numbers} \n",
    "print(squares)"
   ]
  },
  {
   "cell_type": "markdown",
   "id": "bd28fbf1",
   "metadata": {},
   "source": [
    "4. **Set Comprehension:** is used to generate new set by selecting elements from an iterable."
   ]
  },
  {
   "cell_type": "code",
   "execution_count": 4,
   "id": "93280673",
   "metadata": {},
   "outputs": [
    {
     "name": "stdout",
     "output_type": "stream",
     "text": [
      "{33, 4, 5, 6, 10, 12, 44, 77, 18}\n"
     ]
    }
   ],
   "source": [
    "numbers = [10, 12, 33, 4, 44, 5, 5, 5, 6, 77, 77,18]\n",
    "unique_numbers = {n for n in numbers} \n",
    "print(unique_numbers)"
   ]
  },
  {
   "cell_type": "markdown",
   "id": "119beb4f",
   "metadata": {},
   "source": [
    "5. **Lambda Function:** this function is used to create small anonymous functions."
   ]
  },
  {
   "cell_type": "code",
   "execution_count": null,
   "id": "638ab2a9",
   "metadata": {},
   "outputs": [],
   "source": []
  }
 ],
 "metadata": {
  "kernelspec": {
   "display_name": "Python 3",
   "language": "python",
   "name": "python3"
  },
  "language_info": {
   "codemirror_mode": {
    "name": "ipython",
    "version": 3
   },
   "file_extension": ".py",
   "mimetype": "text/x-python",
   "name": "python",
   "nbconvert_exporter": "python",
   "pygments_lexer": "ipython3",
   "version": "3.8.8"
  }
 },
 "nbformat": 4,
 "nbformat_minor": 5
}
